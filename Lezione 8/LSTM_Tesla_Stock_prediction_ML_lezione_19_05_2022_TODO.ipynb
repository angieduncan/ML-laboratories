{
 "cells": [
  {
   "cell_type": "code",
   "execution_count": 1,
   "metadata": {
    "id": "LToDPXkm5Sq_"
   },
   "outputs": [],
   "source": [
    "import math\n",
    "import matplotlib.pyplot as plt\n",
    "import keras\n",
    "import pandas as pd\n",
    "import numpy as np\n",
    "from keras.models import Sequential\n",
    "from keras.layers import Dense\n",
    "from keras.layers import LSTM\n",
    "from keras.layers import Dropout\n",
    "from keras.layers import *\n",
    "from sklearn.preprocessing import MinMaxScaler\n",
    "from sklearn.metrics import mean_squared_error\n",
    "from sklearn.metrics import mean_absolute_error\n",
    "from sklearn.model_selection import train_test_split\n",
    "from keras.callbacks import EarlyStopping\n",
    "from keras.models import Model\n"
   ]
  },
  {
   "cell_type": "markdown",
   "metadata": {
    "id": "9_cQ8IML848o"
   },
   "source": [
    "**Getting the stock price history data**\n",
    "\n",
    "load the data and inspect it:"
   ]
  },
  {
   "cell_type": "code",
   "execution_count": 2,
   "metadata": {
    "colab": {
     "base_uri": "https://localhost:8080/",
     "height": 225
    },
    "id": "_0tRhuGp5sqn",
    "outputId": "90f21adb-2537-4083-fe53-d38ea28fec6e"
   },
   "outputs": [
    {
     "name": "stdout",
     "output_type": "stream",
     "text": [
      "Number of rows and columns: (1259, 7)\n"
     ]
    },
    {
     "data": {
      "text/html": [
       "<div>\n",
       "<style scoped>\n",
       "    .dataframe tbody tr th:only-of-type {\n",
       "        vertical-align: middle;\n",
       "    }\n",
       "\n",
       "    .dataframe tbody tr th {\n",
       "        vertical-align: top;\n",
       "    }\n",
       "\n",
       "    .dataframe thead th {\n",
       "        text-align: right;\n",
       "    }\n",
       "</style>\n",
       "<table border=\"1\" class=\"dataframe\">\n",
       "  <thead>\n",
       "    <tr style=\"text-align: right;\">\n",
       "      <th></th>\n",
       "      <th>Date</th>\n",
       "      <th>Open</th>\n",
       "      <th>High</th>\n",
       "      <th>Low</th>\n",
       "      <th>Close</th>\n",
       "      <th>Adj Close</th>\n",
       "      <th>Volume</th>\n",
       "    </tr>\n",
       "  </thead>\n",
       "  <tbody>\n",
       "    <tr>\n",
       "      <th>0</th>\n",
       "      <td>2015-07-10</td>\n",
       "      <td>52.444000</td>\n",
       "      <td>52.599998</td>\n",
       "      <td>51.563999</td>\n",
       "      <td>51.830002</td>\n",
       "      <td>51.830002</td>\n",
       "      <td>13054500</td>\n",
       "    </tr>\n",
       "    <tr>\n",
       "      <th>1</th>\n",
       "      <td>2015-07-13</td>\n",
       "      <td>52.450001</td>\n",
       "      <td>52.509998</td>\n",
       "      <td>51.209999</td>\n",
       "      <td>52.431999</td>\n",
       "      <td>52.431999</td>\n",
       "      <td>14801500</td>\n",
       "    </tr>\n",
       "    <tr>\n",
       "      <th>2</th>\n",
       "      <td>2015-07-14</td>\n",
       "      <td>52.419998</td>\n",
       "      <td>53.198002</td>\n",
       "      <td>52.102001</td>\n",
       "      <td>53.130001</td>\n",
       "      <td>53.130001</td>\n",
       "      <td>9538000</td>\n",
       "    </tr>\n",
       "    <tr>\n",
       "      <th>3</th>\n",
       "      <td>2015-07-15</td>\n",
       "      <td>53.348000</td>\n",
       "      <td>53.498001</td>\n",
       "      <td>52.416000</td>\n",
       "      <td>52.627998</td>\n",
       "      <td>52.627998</td>\n",
       "      <td>10108000</td>\n",
       "    </tr>\n",
       "    <tr>\n",
       "      <th>4</th>\n",
       "      <td>2015-07-16</td>\n",
       "      <td>52.844002</td>\n",
       "      <td>53.439999</td>\n",
       "      <td>52.632000</td>\n",
       "      <td>53.335999</td>\n",
       "      <td>53.335999</td>\n",
       "      <td>8080000</td>\n",
       "    </tr>\n",
       "  </tbody>\n",
       "</table>\n",
       "</div>"
      ],
      "text/plain": [
       "         Date       Open       High        Low      Close  Adj Close    Volume\n",
       "0  2015-07-10  52.444000  52.599998  51.563999  51.830002  51.830002  13054500\n",
       "1  2015-07-13  52.450001  52.509998  51.209999  52.431999  52.431999  14801500\n",
       "2  2015-07-14  52.419998  53.198002  52.102001  53.130001  53.130001   9538000\n",
       "3  2015-07-15  53.348000  53.498001  52.416000  52.627998  52.627998  10108000\n",
       "4  2015-07-16  52.844002  53.439999  52.632000  53.335999  53.335999   8080000"
      ]
     },
     "execution_count": 2,
     "metadata": {},
     "output_type": "execute_result"
    }
   ],
   "source": [
    "df=pd.read_csv(\"TSLA.csv\")\n",
    "\n",
    "print(\"Number of rows and columns:\", df.shape)\n",
    "df.head(5)"
   ]
  },
  {
   "cell_type": "markdown",
   "metadata": {
    "id": "CWvod_ui9D5X"
   },
   "source": [
    " **Load the data and inspect them**"
   ]
  },
  {
   "cell_type": "code",
   "execution_count": 3,
   "metadata": {
    "id": "-YZSdRjC55Uc"
   },
   "outputs": [
    {
     "name": "stdout",
     "output_type": "stream",
     "text": [
      "[[52.444   ]\n",
      " [52.450001]\n",
      " [52.419998]\n",
      " [53.348   ]\n",
      " [52.844002]]\n"
     ]
    }
   ],
   "source": [
    "training_set = df.iloc[:800, 1:2].values\n",
    "test_set = df.iloc[800:, 1:2].values\n",
    "print(training_set[:5])"
   ]
  },
  {
   "cell_type": "markdown",
   "metadata": {
    "id": "0p5daxXF9Geq"
   },
   "source": [
    "**normalize and reshape**\n",
    "\n",
    "We want our data to be in the form of a 3D array for our LSTM model. First, we create data in 60 timesteps and convert it into an array using NumPy. Then, we convert the data into a 3D array with X_train samples, 60 timestamps, and one feature at each step."
   ]
  },
  {
   "cell_type": "code",
   "execution_count": 4,
   "metadata": {
    "id": "oxAnAPWd5-F6"
   },
   "outputs": [
    {
     "name": "stdout",
     "output_type": "stream",
     "text": [
      "(740, 60) (740,)\n",
      "(740, 60, 1)\n"
     ]
    }
   ],
   "source": [
    "# Feature Scaling\n",
    "sc = MinMaxScaler(feature_range = (0, 1))\n",
    "training_set_scaled = sc.fit_transform(training_set)\n",
    "\n",
    "# Creating a data structure with 60 time-steps and 1 output\n",
    "X_train = []\n",
    "y_train = []\n",
    "for i in range(60, 800):\n",
    "    X_train.append(training_set_scaled[i-60:i, 0])   # when i-60, r1 - values from idx_0 to idx_60\n",
    "                                              # when i-61, r2 - values from idx_1 to idx_61\n",
    "    y_train.append(training_set_scaled[i, 0])                          # r1 -> y_1 - value in idx_61\n",
    "                                              # r2 -> y_2 - value in idx_62\n",
    "\n",
    "# [10,20,30,40,50,60,70,80]\n",
    "# timesteps = 3 \n",
    "# r1 = [10,20,30] -> y_1 = 40\n",
    "# r2 = [20,30,40] -> y_2 = 50\n",
    "# r3 = [30,40,50] -> y_3 = 60\n",
    "# and so on...\n",
    "        \n",
    "X_train, y_train = np.array(X_train), np.array(y_train)\n",
    "\n",
    "print(X_train.shape, y_train.shape)\n",
    "\n",
    "# we need [samples, timesteps, features]\n",
    "# 1-dimensional features -> scalar value -> features - 1\n",
    "X_train = np.reshape(X_train, (X_train.shape[0], X_train.shape[1], 1))\n",
    "\n",
    "print(X_train.shape)"
   ]
  },
  {
   "cell_type": "markdown",
   "metadata": {
    "id": "ZWV7oDIk9LRy"
   },
   "source": [
    "**Now, it’s time to build the model**\n",
    "\n",
    "Add LSTM layer along with dropout layers to prevent overfitting. After that, we add a Dense layer that specifies a one unit output. Next, we compile the model using the adam optimizer and set the loss as the mean_squarred_error\n"
   ]
  },
  {
   "cell_type": "code",
   "execution_count": 5,
   "metadata": {
    "id": "4k22mQGH621n"
   },
   "outputs": [
    {
     "name": "stderr",
     "output_type": "stream",
     "text": [
      "2022-05-19 10:23:13.022844: W tensorflow/stream_executor/platform/default/dso_loader.cc:64] Could not load dynamic library 'libcuda.so.1'; dlerror: libcuda.so.1: cannot open shared object file: No such file or directory\n",
      "2022-05-19 10:23:13.022859: W tensorflow/stream_executor/cuda/cuda_driver.cc:269] failed call to cuInit: UNKNOWN ERROR (303)\n",
      "2022-05-19 10:23:13.022870: I tensorflow/stream_executor/cuda/cuda_diagnostics.cc:156] kernel driver does not appear to be running on this host (80d80221f392): /proc/driver/nvidia/version does not exist\n",
      "2022-05-19 10:23:13.022991: I tensorflow/core/platform/cpu_feature_guard.cc:142] This TensorFlow binary is optimized with oneAPI Deep Neural Network Library (oneDNN) to use the following CPU instructions in performance-critical operations:  SSE4.1 SSE4.2 AVX AVX2 FMA\n",
      "To enable them in other operations, rebuild TensorFlow with the appropriate compiler flags.\n",
      "2022-05-19 10:23:13.375134: I tensorflow/compiler/mlir/mlir_graph_optimization_pass.cc:185] None of the MLIR Optimization Passes are enabled (registered 2)\n"
     ]
    },
    {
     "name": "stdout",
     "output_type": "stream",
     "text": [
      "Epoch 1/10\n",
      "24/24 [==============================] - 3s 39ms/step - loss: 0.0460\n",
      "Epoch 2/10\n",
      "24/24 [==============================] - 1s 40ms/step - loss: 0.0147\n",
      "Epoch 3/10\n",
      "24/24 [==============================] - 1s 36ms/step - loss: 0.0121\n",
      "Epoch 4/10\n",
      "24/24 [==============================] - 1s 37ms/step - loss: 0.0121\n",
      "Epoch 5/10\n",
      "24/24 [==============================] - 1s 40ms/step - loss: 0.0118\n",
      "Epoch 6/10\n",
      "24/24 [==============================] - 1s 39ms/step - loss: 0.0110\n",
      "Epoch 7/10\n",
      "24/24 [==============================] - 1s 40ms/step - loss: 0.0114\n",
      "Epoch 8/10\n",
      "24/24 [==============================] - 1s 38ms/step - loss: 0.0110\n",
      "Epoch 9/10\n",
      "24/24 [==============================] - 1s 38ms/step - loss: 0.0098\n",
      "Epoch 10/10\n",
      "24/24 [==============================] - 1s 36ms/step - loss: 0.0098\n"
     ]
    },
    {
     "data": {
      "text/plain": [
       "<keras.callbacks.History at 0x7f16a0359bb0>"
      ]
     },
     "execution_count": 5,
     "metadata": {},
     "output_type": "execute_result"
    }
   ],
   "source": [
    "#DO with GRU also\n",
    "model = Sequential()#Adding the first LSTM layer and some Dropout regularisation\n",
    "model.add(LSTM(units=50, return_sequences=True, input_shape=(X_train.shape[1], 1)))\n",
    "model.add(Dropout(0.2))# Adding a second LSTM layer and some Dropout regularisation\n",
    "model.add(LSTM(units=50, return_sequences=True))\n",
    "model.add(Dropout(0.2))# Adding a third LSTM layer and some Dropout regularisation\n",
    "model.add(LSTM(units=50, return_sequences=True))\n",
    "model.add(Dropout(0.2))# Adding a fourth LSTM layer and some Dropout regularisation\n",
    "model.add(LSTM(units=50))\n",
    "model.add(Dropout(0.2))# Adding the output layer\n",
    "model.add(Dense(1))\n",
    "\n",
    "# Compiling the LSTM\n",
    "model.compile(optimizer = 'adam', loss = 'mean_squared_error')\n",
    "\n",
    "#add checkpoint to save model\n",
    "\n",
    "# Fitting the LSTM to the Training set\n",
    "model.fit(X_train, y_train, epochs=10, batch_size=32)"
   ]
  },
  {
   "cell_type": "markdown",
   "metadata": {
    "id": "5xs5HBNo9Pk4"
   },
   "source": [
    "**Prepare the test data (reshape them)**"
   ]
  },
  {
   "cell_type": "code",
   "execution_count": 6,
   "metadata": {
    "id": "qYiaxyfH8Gwj"
   },
   "outputs": [
    {
     "name": "stdout",
     "output_type": "stream",
     "text": [
      "(1259, 1)\n",
      "(519, 1)\n",
      "(459, 60)\n",
      "(459, 60, 1)\n"
     ]
    }
   ],
   "source": [
    "# Getting the predicted stock price for testing\n",
    "dataset_train = df.iloc[:800, 1:2]\n",
    "dataset_train.to_csv(\"dataset_train.csv\")\n",
    "dataset_test = df.iloc[800:, 1:2]\n",
    "dataset_test.to_csv(\"dataset_test.csv\")\n",
    "\n",
    "dataset_total = pd.concat((dataset_train, dataset_test), axis=0)\n",
    "print(dataset_total.shape)\n",
    "\n",
    "inputs = dataset_total[len(dataset_total)-len(dataset_test)-60:].values\n",
    "inputs = inputs.reshape(-1,1)\n",
    "print(inputs.shape)\n",
    "\n",
    "inputs = sc.transform(inputs)\n",
    "X_test = []\n",
    "\n",
    "for i in range(60, 519):\n",
    "    X_test.append(inputs[i-60:i, 0])\n",
    "\n",
    "X_test = np.array(X_test)\n",
    "print(X_test.shape)\n",
    "\n",
    "X_test = np.reshape(X_test, (X_test.shape[0], X_test.shape[1], 1))\n",
    "print(X_test.shape)\n"
   ]
  },
  {
   "cell_type": "markdown",
   "metadata": {
    "id": "2P00aNsC9R44"
   },
   "source": [
    "**Make Predictions using the test set**"
   ]
  },
  {
   "cell_type": "code",
   "execution_count": 7,
   "metadata": {
    "id": "faXdcTGd8WOl"
   },
   "outputs": [
    {
     "name": "stdout",
     "output_type": "stream",
     "text": [
      "(459, 1)\n",
      "[[62.67837 ]\n",
      " [61.934303]\n",
      " [61.22116 ]]\n"
     ]
    }
   ],
   "source": [
    "predicted_stock_price = model.predict(X_test)\n",
    "print(predicted_stock_price.shape)\n",
    "\n",
    "predicted_stock_price = sc.inverse_transform(predicted_stock_price)\n",
    "\n",
    "print(predicted_stock_price[:3])"
   ]
  },
  {
   "cell_type": "markdown",
   "metadata": {
    "id": "u-UzRIfA9V2x"
   },
   "source": [
    "**Visualize the results**"
   ]
  },
  {
   "cell_type": "code",
   "execution_count": 8,
   "metadata": {
    "colab": {
     "base_uri": "https://localhost:8080/",
     "height": 513
    },
    "id": "5SET9SzM8ZlS",
    "outputId": "ebaae883-36a1-4350-90d3-e18923d804b6"
   },
   "outputs": [
    {
     "data": {
      "image/png": "[encoded data removed]",
      "text/plain": [
       "<Figure size 720x576 with 1 Axes>"
      ]
     },
     "metadata": {
      "needs_background": "light"
     },
     "output_type": "display_data"
    }
   ],
   "source": [
    "# Visualising the results\n",
    "plt.figure(figsize=(10,8))\n",
    "plt.plot(df.loc[800:, \"Date\"],dataset_test.values, color = \"red\", label = \"Real TESLA Stock Price\")\n",
    "plt.plot(df.loc[800:, \"Date\"],predicted_stock_price, color = \"blue\", label = \"Predicted TESLA Stock Price\")\n",
    "plt.xticks(np.arange(0,459,50))\n",
    "plt.title('TESLA Stock Price Prediction')\n",
    "plt.xlabel('Time')\n",
    "plt.ylabel('TESLA Stock Price')\n",
    "plt.legend()\n",
    "plt.show()"
   ]
  },
  {
   "cell_type": "markdown",
   "metadata": {
    "id": "_6Fu7Au39bKu"
   },
   "source": [
    "**Observation**: Huge drop in March 2020 due to the COVID-19 lockdown !\n",
    "\n",
    "We can clearly see that our model performed very good. It is able to accuretly follow most of the unexcepted jumps/drops however, for the most recent date stamps, we can see that the model expected (predicted) lower values compared to the real values of the stock price."
   ]
  },
  {
   "cell_type": "markdown",
   "metadata": {
    "id": "QqB5IqG5RKks"
   },
   "source": [
    "**Prepare data for a MLP model**"
   ]
  },
  {
   "cell_type": "code",
   "execution_count": 9,
   "metadata": {
    "id": "3SxdI0QzO3pJ"
   },
   "outputs": [
    {
     "name": "stdout",
     "output_type": "stream",
     "text": [
      "(740, 60) (740,)\n"
     ]
    }
   ],
   "source": [
    "# Feature Scaling\n",
    "sc = MinMaxScaler(feature_range = (0, 1))\n",
    "training_set_scaled_nn = sc.fit_transform(training_set)# Creating a data structure with 60 time-steps and 1 output\n",
    "X_train_nn = []\n",
    "y_train_nn = []\n",
    "\n",
    "for i in range(60, 800):\n",
    "    X_train_nn.append(training_set_scaled_nn[i-60:i, 0])\n",
    "    y_train_nn.append(training_set_scaled_nn[i, 0])\n",
    "\n",
    "X_train_nn, y_train_nn = np.array(X_train_nn), np.array(y_train_nn)\n",
    "\n",
    "print(X_train_nn.shape, y_train_nn.shape)\n"
   ]
  },
  {
   "cell_type": "markdown",
   "metadata": {
    "id": "ZFKume1JRiC8"
   },
   "source": [
    "**MLP model**"
   ]
  },
  {
   "cell_type": "code",
   "execution_count": 10,
   "metadata": {
    "id": "k-1Tf4sONUTS"
   },
   "outputs": [
    {
     "name": "stdout",
     "output_type": "stream",
     "text": [
      "Model: \"sequential_1\"\n",
      "_________________________________________________________________\n",
      "Layer (type)                 Output Shape              Param #   \n",
      "=================================================================\n",
      "dense_1 (Dense)              (None, 256)               15616     \n",
      "_________________________________________________________________\n",
      "dense_2 (Dense)              (None, 512)               131584    \n",
      "_________________________________________________________________\n",
      "dense_3 (Dense)              (None, 256)               131328    \n",
      "_________________________________________________________________\n",
      "dense_4 (Dense)              (None, 128)               32896     \n",
      "_________________________________________________________________\n",
      "dense_5 (Dense)              (None, 64)                8256      \n",
      "_________________________________________________________________\n",
      "dense_6 (Dense)              (None, 1)                 65        \n",
      "=================================================================\n",
      "Total params: 319,745\n",
      "Trainable params: 319,745\n",
      "Non-trainable params: 0\n",
      "_________________________________________________________________\n"
     ]
    }
   ],
   "source": [
    "model_nn = keras.Sequential()\n",
    "model_nn.add(Dense(256, activation='relu', input_dim=60)) #input_shape\n",
    "model_nn.add(Dense(512, activation='relu'))\n",
    "model_nn.add(Dense(256, activation='relu')) \n",
    "model_nn.add(Dense(128, activation='relu')) \n",
    "model_nn.add(Dense(64, activation='relu'))\n",
    "model_nn.add(Dense(1))\n",
    "\n",
    "model_nn.compile(optimizer='adam',loss='mean_squared_error')\n",
    "model_nn.summary()"
   ]
  },
  {
   "cell_type": "code",
   "execution_count": 11,
   "metadata": {
    "id": "TNug_mzaNkFd"
   },
   "outputs": [
    {
     "name": "stdout",
     "output_type": "stream",
     "text": [
      "Epoch 1/10\n",
      "24/24 [==============================] - 0s 1ms/step - loss: 0.0172\n",
      "Epoch 2/10\n",
      "24/24 [==============================] - 0s 1ms/step - loss: 0.0062\n",
      "Epoch 3/10\n",
      "24/24 [==============================] - 0s 1ms/step - loss: 0.0047\n",
      "Epoch 4/10\n",
      "24/24 [==============================] - 0s 1ms/step - loss: 0.0024\n",
      "Epoch 5/10\n",
      "24/24 [==============================] - 0s 1ms/step - loss: 0.0030\n",
      "Epoch 6/10\n",
      "24/24 [==============================] - 0s 1ms/step - loss: 0.0024\n",
      "Epoch 7/10\n",
      "24/24 [==============================] - 0s 1ms/step - loss: 0.0025\n",
      "Epoch 8/10\n",
      "24/24 [==============================] - 0s 1ms/step - loss: 0.0025\n",
      "Epoch 9/10\n",
      "24/24 [==============================] - 0s 1ms/step - loss: 0.0017\n",
      "Epoch 10/10\n",
      "24/24 [==============================] - 0s 1ms/step - loss: 0.0017\n"
     ]
    },
    {
     "data": {
      "text/plain": [
       "<keras.callbacks.History at 0x7f166c55bd90>"
      ]
     },
     "execution_count": 11,
     "metadata": {},
     "output_type": "execute_result"
    }
   ],
   "source": [
    "model_nn.fit(X_train_nn,y_train_nn,epochs=10,batch_size=32)"
   ]
  },
  {
   "cell_type": "markdown",
   "metadata": {
    "id": "zdrIP07mRoKe"
   },
   "source": [
    "**Prepare test set for MLP model**"
   ]
  },
  {
   "cell_type": "code",
   "execution_count": 12,
   "metadata": {
    "id": "Wl3-pa_IPENa"
   },
   "outputs": [
    {
     "name": "stdout",
     "output_type": "stream",
     "text": [
      "(459, 60)\n"
     ]
    }
   ],
   "source": [
    "# Getting the predicted stock price of 2017\n",
    "dataset_train = df.iloc[:800, 1:2]\n",
    "dataset_test = df.iloc[800:, 1:2]\n",
    "dataset_total = pd.concat((dataset_train, dataset_test), axis = 0)\n",
    "inputs = dataset_total[len(dataset_total) - len(dataset_test) - 60:].values\n",
    "inputs = inputs.reshape(-1,1)\n",
    "inputs = sc.transform(inputs)\n",
    "X_test_nn = []\n",
    "for i in range(60, 519):\n",
    "    X_test_nn.append(inputs[i-60:i, 0])\n",
    "X_test_nn = np.array(X_test_nn)\n",
    "\n",
    "print(X_test_nn.shape)"
   ]
  },
  {
   "cell_type": "code",
   "execution_count": 13,
   "metadata": {
    "id": "-xztuG6jOi87"
   },
   "outputs": [
    {
     "name": "stdout",
     "output_type": "stream",
     "text": [
      "[[53.99927 ]\n",
      " [54.211426]\n",
      " [54.75356 ]]\n"
     ]
    }
   ],
   "source": [
    "predicted_stock_price_nn_init = model_nn.predict(X_test_nn)\n",
    "predicted_stock_price_nn = sc.inverse_transform(predicted_stock_price_nn_init)\n",
    "\n",
    "print(predicted_stock_price_nn[:3])\n",
    "\n"
   ]
  },
  {
   "cell_type": "markdown",
   "metadata": {
    "id": "sRXafjjhRyER"
   },
   "source": [
    "**Visualize the results**"
   ]
  },
  {
   "cell_type": "code",
   "execution_count": 14,
   "metadata": {
    "colab": {
     "base_uri": "https://localhost:8080/",
     "height": 513
    },
    "id": "YPUQYaOIPJNl",
    "outputId": "094366ab-7f18-4590-be0c-a8e40ccc947c"
   },
   "outputs": [
    {
     "data": {
      "image/png": "[encoded data removed]",
      "text/plain": [
       "<Figure size 720x576 with 1 Axes>"
      ]
     },
     "metadata": {
      "needs_background": "light"
     },
     "output_type": "display_data"
    }
   ],
   "source": [
    "# Visualising the results\n",
    "plt.figure(figsize=(10,8))\n",
    "plt.plot(df.loc[800:, \"Date\"],dataset_test.values, color = \"red\", label = \"Real TESLA Stock Price\")\n",
    "plt.plot(df.loc[800:, \"Date\"],predicted_stock_price_nn, color = \"blue\", label = \"Predicted TESLA Stock Price\")\n",
    "plt.xticks(np.arange(0,459,50))\n",
    "plt.title('TESLA Stock Price Prediction')\n",
    "plt.xlabel('Time')\n",
    "plt.ylabel('TESLA Stock Price')\n",
    "plt.legend()\n",
    "plt.show()"
   ]
  },
  {
   "cell_type": "markdown",
   "metadata": {
    "id": "noVAIMWpSnBA"
   },
   "source": [
    "**Multi step predictions**"
   ]
  },
  {
   "cell_type": "markdown",
   "metadata": {
    "id": "_uW1qiCl_dHK"
   },
   "source": [
    "\n",
    "[10, 20, 30, 40, 50, 60, 70, 80, 90]\n",
    "\n",
    "input : [10,20,30]\n",
    "output: [40,50]"
   ]
  },
  {
   "cell_type": "code",
   "execution_count": 15,
   "metadata": {
    "id": "lDhRFmdy_krq"
   },
   "outputs": [
    {
     "name": "stdout",
     "output_type": "stream",
     "text": [
      "[0.43589644 0.39972175]\n",
      "738 60 1\n"
     ]
    }
   ],
   "source": [
    "# Feature Scaling\n",
    "sc = MinMaxScaler(feature_range = (0, 1))\n",
    "training_set_scaled = sc.fit_transform(training_set)# Creating a data structure with 60 time-steps and 2 steps into the future\n",
    "X_train = []\n",
    "y_train = []\n",
    "\n",
    "for i in range(60, 800-2):\n",
    "    X_train.append(training_set_scaled[i-60:i, 0])\n",
    "    y_train.append(training_set_scaled[i:i+2, 0])\n",
    "\n",
    "X_train, y_train = np.array(X_train), np.array(y_train)\n",
    "X_train = np.reshape(X_train, (X_train.shape[0], X_train.shape[1], 1))\n",
    "\n",
    "print(y_train[0])\n",
    "print(X_train.shape[0], X_train.shape[1], X_train.shape[2])"
   ]
  },
  {
   "cell_type": "code",
   "execution_count": 16,
   "metadata": {
    "id": "Le9vINbMAaoQ"
   },
   "outputs": [
    {
     "name": "stdout",
     "output_type": "stream",
     "text": [
      "Epoch 1/10\n",
      "24/24 [==============================] - 3s 40ms/step - loss: 0.0898\n",
      "Epoch 2/10\n",
      "24/24 [==============================] - 1s 36ms/step - loss: 0.0239\n",
      "Epoch 3/10\n",
      "24/24 [==============================] - 1s 36ms/step - loss: 0.0162\n",
      "Epoch 4/10\n",
      "24/24 [==============================] - 1s 39ms/step - loss: 0.0158\n",
      "Epoch 5/10\n",
      "24/24 [==============================] - 1s 39ms/step - loss: 0.0147\n",
      "Epoch 6/10\n",
      "24/24 [==============================] - 1s 38ms/step - loss: 0.0154\n",
      "Epoch 7/10\n",
      "24/24 [==============================] - 1s 36ms/step - loss: 0.0124\n",
      "Epoch 8/10\n",
      "24/24 [==============================] - 1s 36ms/step - loss: 0.0141\n",
      "Epoch 9/10\n",
      "24/24 [==============================] - 1s 38ms/step - loss: 0.0117\n",
      "Epoch 10/10\n",
      "24/24 [==============================] - 1s 33ms/step - loss: 0.0124\n"
     ]
    },
    {
     "data": {
      "text/plain": [
       "<keras.callbacks.History at 0x7f162c449520>"
      ]
     },
     "execution_count": 16,
     "metadata": {},
     "output_type": "execute_result"
    }
   ],
   "source": [
    "#TO DO:\n",
    "model = Sequential()#Adding the first LSTM layer and some Dropout regularisation \n",
    "model.add(LSTM(units = 50, return_sequences = True, input_shape = (X_train.shape[1], 1)))      #n_features is still 1. each time time is represented by 1 number only\n",
    "                                                                                                #n_steps_in = X_train.shape[1]\n",
    "\n",
    "model.add(Dropout(0.2))# Adding a second LSTM layer and some Dropout regularisation\n",
    "model.add(LSTM(units = 50, return_sequences = True))\n",
    "model.add(Dropout(0.2))# Adding a third LSTM layer and some Dropout regularisation\n",
    "model.add(LSTM(units = 50, return_sequences = True))\n",
    "model.add(Dropout(0.2))# Adding a fourth LSTM layer and some Dropout regularisation\n",
    "model.add(LSTM(units = 50))\n",
    "model.add(Dropout(0.2))# Adding the output layer\n",
    "model.add(Dense(2)) #n_steps_out = 2 \n",
    "\n",
    "# Compiling the LSTM\n",
    "model.compile(optimizer = 'adam', loss = 'mean_squared_error')\n",
    "\n",
    "# Fitting the LSTM to the Training set\n",
    "model.fit(X_train, y_train, epochs = 10, batch_size = 32)"
   ]
  },
  {
   "cell_type": "markdown",
   "metadata": {
    "id": "itsm9w0TTr8J"
   },
   "source": [
    "**Prepare the test set**"
   ]
  },
  {
   "cell_type": "code",
   "execution_count": 17,
   "metadata": {
    "id": "sWBbLslyBdBF"
   },
   "outputs": [
    {
     "name": "stdout",
     "output_type": "stream",
     "text": [
      "(459, 60, 1)\n"
     ]
    }
   ],
   "source": [
    "# Getting the predicted stock price of 2017\n",
    "dataset_train = df.iloc[:800, 1:2]\n",
    "dataset_test = df.iloc[800:, 1:2]\n",
    "dataset_total = pd.concat((dataset_train, dataset_test), axis = 0)\n",
    "inputs = dataset_total[len(dataset_total) - len(dataset_test) - 60:].values\n",
    "inputs = inputs.reshape(-1,1)\n",
    "inputs = sc.transform(inputs)\n",
    "X_test = []\n",
    "for i in range(60, 519):\n",
    "    X_test.append(inputs[i-60:i, 0])\n",
    "X_test = np.array(X_test)\n",
    "X_test = np.reshape(X_test, (X_test.shape[0], X_test.shape[1], 1))\n",
    "print(X_test.shape)\n"
   ]
  },
  {
   "cell_type": "markdown",
   "metadata": {
    "id": "L6skc61ZTvh1"
   },
   "source": [
    "**Make predictions**"
   ]
  },
  {
   "cell_type": "code",
   "execution_count": 18,
   "metadata": {
    "colab": {
     "base_uri": "https://localhost:8080/"
    },
    "id": "C5CEcSD_BzxM",
    "outputId": "68377070-2522-46c0-f889-fcea2c64abaf"
   },
   "outputs": [
    {
     "name": "stdout",
     "output_type": "stream",
     "text": [
      "(459, 2)\n",
      "[[60.310528 60.420177]\n",
      " [59.690987 59.786476]\n",
      " [59.076843 59.164787]]\n"
     ]
    }
   ],
   "source": [
    "predicted_stock_price = model.predict(X_test)\n",
    "predicted_stock_price = sc.inverse_transform(predicted_stock_price)\n",
    "\n",
    "print(predicted_stock_price.shape)\n",
    "print(predicted_stock_price[:3])"
   ]
  },
  {
   "cell_type": "markdown",
   "metadata": {
    "id": "BeH5AP_NTyFt"
   },
   "source": [
    "**Visualize the results**"
   ]
  },
  {
   "cell_type": "code",
   "execution_count": 19,
   "metadata": {
    "colab": {
     "base_uri": "https://localhost:8080/",
     "height": 513
    },
    "id": "MQ0VfT_uChLo",
    "outputId": "ba8ea7fb-21ea-4329-85fc-d257d9c2834d"
   },
   "outputs": [
    {
     "data": {
      "image/png": "[encoded data removed]",
      "text/plain": [
       "<Figure size 720x576 with 1 Axes>"
      ]
     },
     "metadata": {
      "needs_background": "light"
     },
     "output_type": "display_data"
    }
   ],
   "source": [
    "# Visualising the results\n",
    "plt.figure(figsize=(10,8))\n",
    "plt.plot(df.loc[800:, \"Date\"],dataset_test.values, color = \"red\", label = \"Real TESLA Stock Price\")\n",
    "plt.plot(df.loc[800:, \"Date\"],predicted_stock_price[:,0], color = \"blue\", label = \"Predicted TESLA Stock Price\")\n",
    "plt.plot(df.loc[800:, \"Date\"],predicted_stock_price[:,1], color = \"green\", label = \"Predicted TESLA Stock Price\")\n",
    "\n",
    "plt.xticks(np.arange(0,459,50))\n",
    "plt.title('TESLA Stock Price Prediction')\n",
    "plt.xlabel('Time')\n",
    "plt.ylabel('TESLA Stock Price')\n",
    "plt.legend()\n",
    "plt.show()"
   ]
  },
  {
   "cell_type": "markdown",
   "metadata": {
    "id": "2e-8MG5WT1cC"
   },
   "source": [
    "**Multivariate**"
   ]
  },
  {
   "cell_type": "code",
   "execution_count": 20,
   "metadata": {
    "colab": {
     "base_uri": "https://localhost:8080/",
     "height": 206
    },
    "id": "D8shYrFPVoGp",
    "outputId": "99f82f9a-79eb-4813-83bc-c37f86b6d351"
   },
   "outputs": [
    {
     "data": {
      "text/html": [
       "<div>\n",
       "<style scoped>\n",
       "    .dataframe tbody tr th:only-of-type {\n",
       "        vertical-align: middle;\n",
       "    }\n",
       "\n",
       "    .dataframe tbody tr th {\n",
       "        vertical-align: top;\n",
       "    }\n",
       "\n",
       "    .dataframe thead th {\n",
       "        text-align: right;\n",
       "    }\n",
       "</style>\n",
       "<table border=\"1\" class=\"dataframe\">\n",
       "  <thead>\n",
       "    <tr style=\"text-align: right;\">\n",
       "      <th></th>\n",
       "      <th>Date</th>\n",
       "      <th>Open</th>\n",
       "      <th>High</th>\n",
       "      <th>Low</th>\n",
       "      <th>Close</th>\n",
       "      <th>Adj Close</th>\n",
       "      <th>Volume</th>\n",
       "    </tr>\n",
       "  </thead>\n",
       "  <tbody>\n",
       "    <tr>\n",
       "      <th>0</th>\n",
       "      <td>2015-07-10</td>\n",
       "      <td>52.444000</td>\n",
       "      <td>52.599998</td>\n",
       "      <td>51.563999</td>\n",
       "      <td>51.830002</td>\n",
       "      <td>51.830002</td>\n",
       "      <td>13054500</td>\n",
       "    </tr>\n",
       "    <tr>\n",
       "      <th>1</th>\n",
       "      <td>2015-07-13</td>\n",
       "      <td>52.450001</td>\n",
       "      <td>52.509998</td>\n",
       "      <td>51.209999</td>\n",
       "      <td>52.431999</td>\n",
       "      <td>52.431999</td>\n",
       "      <td>14801500</td>\n",
       "    </tr>\n",
       "    <tr>\n",
       "      <th>2</th>\n",
       "      <td>2015-07-14</td>\n",
       "      <td>52.419998</td>\n",
       "      <td>53.198002</td>\n",
       "      <td>52.102001</td>\n",
       "      <td>53.130001</td>\n",
       "      <td>53.130001</td>\n",
       "      <td>9538000</td>\n",
       "    </tr>\n",
       "    <tr>\n",
       "      <th>3</th>\n",
       "      <td>2015-07-15</td>\n",
       "      <td>53.348000</td>\n",
       "      <td>53.498001</td>\n",
       "      <td>52.416000</td>\n",
       "      <td>52.627998</td>\n",
       "      <td>52.627998</td>\n",
       "      <td>10108000</td>\n",
       "    </tr>\n",
       "    <tr>\n",
       "      <th>4</th>\n",
       "      <td>2015-07-16</td>\n",
       "      <td>52.844002</td>\n",
       "      <td>53.439999</td>\n",
       "      <td>52.632000</td>\n",
       "      <td>53.335999</td>\n",
       "      <td>53.335999</td>\n",
       "      <td>8080000</td>\n",
       "    </tr>\n",
       "  </tbody>\n",
       "</table>\n",
       "</div>"
      ],
      "text/plain": [
       "         Date       Open       High        Low      Close  Adj Close    Volume\n",
       "0  2015-07-10  52.444000  52.599998  51.563999  51.830002  51.830002  13054500\n",
       "1  2015-07-13  52.450001  52.509998  51.209999  52.431999  52.431999  14801500\n",
       "2  2015-07-14  52.419998  53.198002  52.102001  53.130001  53.130001   9538000\n",
       "3  2015-07-15  53.348000  53.498001  52.416000  52.627998  52.627998  10108000\n",
       "4  2015-07-16  52.844002  53.439999  52.632000  53.335999  53.335999   8080000"
      ]
     },
     "execution_count": 20,
     "metadata": {},
     "output_type": "execute_result"
    }
   ],
   "source": [
    "#multivariate\n",
    "df.head()"
   ]
  },
  {
   "cell_type": "code",
   "execution_count": 21,
   "metadata": {
    "colab": {
     "base_uri": "https://localhost:8080/",
     "height": 206
    },
    "id": "JLZGzDnqV4TG",
    "outputId": "24d8a6ca-d600-4084-b1ac-81ef14da9baa"
   },
   "outputs": [
    {
     "data": {
      "text/html": [
       "<div>\n",
       "<style scoped>\n",
       "    .dataframe tbody tr th:only-of-type {\n",
       "        vertical-align: middle;\n",
       "    }\n",
       "\n",
       "    .dataframe tbody tr th {\n",
       "        vertical-align: top;\n",
       "    }\n",
       "\n",
       "    .dataframe thead th {\n",
       "        text-align: right;\n",
       "    }\n",
       "</style>\n",
       "<table border=\"1\" class=\"dataframe\">\n",
       "  <thead>\n",
       "    <tr style=\"text-align: right;\">\n",
       "      <th></th>\n",
       "      <th>Date</th>\n",
       "      <th>Open</th>\n",
       "      <th>High</th>\n",
       "      <th>Low</th>\n",
       "      <th>Close</th>\n",
       "      <th>Adj Close</th>\n",
       "      <th>Volume</th>\n",
       "      <th>average</th>\n",
       "    </tr>\n",
       "  </thead>\n",
       "  <tbody>\n",
       "    <tr>\n",
       "      <th>0</th>\n",
       "      <td>2015-07-10</td>\n",
       "      <td>52.444000</td>\n",
       "      <td>52.599998</td>\n",
       "      <td>51.563999</td>\n",
       "      <td>51.830002</td>\n",
       "      <td>51.830002</td>\n",
       "      <td>13054500</td>\n",
       "      <td>52.081998</td>\n",
       "    </tr>\n",
       "    <tr>\n",
       "      <th>1</th>\n",
       "      <td>2015-07-13</td>\n",
       "      <td>52.450001</td>\n",
       "      <td>52.509998</td>\n",
       "      <td>51.209999</td>\n",
       "      <td>52.431999</td>\n",
       "      <td>52.431999</td>\n",
       "      <td>14801500</td>\n",
       "      <td>51.859999</td>\n",
       "    </tr>\n",
       "    <tr>\n",
       "      <th>2</th>\n",
       "      <td>2015-07-14</td>\n",
       "      <td>52.419998</td>\n",
       "      <td>53.198002</td>\n",
       "      <td>52.102001</td>\n",
       "      <td>53.130001</td>\n",
       "      <td>53.130001</td>\n",
       "      <td>9538000</td>\n",
       "      <td>52.650002</td>\n",
       "    </tr>\n",
       "    <tr>\n",
       "      <th>3</th>\n",
       "      <td>2015-07-15</td>\n",
       "      <td>53.348000</td>\n",
       "      <td>53.498001</td>\n",
       "      <td>52.416000</td>\n",
       "      <td>52.627998</td>\n",
       "      <td>52.627998</td>\n",
       "      <td>10108000</td>\n",
       "      <td>52.957000</td>\n",
       "    </tr>\n",
       "    <tr>\n",
       "      <th>4</th>\n",
       "      <td>2015-07-16</td>\n",
       "      <td>52.844002</td>\n",
       "      <td>53.439999</td>\n",
       "      <td>52.632000</td>\n",
       "      <td>53.335999</td>\n",
       "      <td>53.335999</td>\n",
       "      <td>8080000</td>\n",
       "      <td>53.036000</td>\n",
       "    </tr>\n",
       "  </tbody>\n",
       "</table>\n",
       "</div>"
      ],
      "text/plain": [
       "         Date       Open       High        Low      Close  Adj Close  \\\n",
       "0  2015-07-10  52.444000  52.599998  51.563999  51.830002  51.830002   \n",
       "1  2015-07-13  52.450001  52.509998  51.209999  52.431999  52.431999   \n",
       "2  2015-07-14  52.419998  53.198002  52.102001  53.130001  53.130001   \n",
       "3  2015-07-15  53.348000  53.498001  52.416000  52.627998  52.627998   \n",
       "4  2015-07-16  52.844002  53.439999  52.632000  53.335999  53.335999   \n",
       "\n",
       "     Volume    average  \n",
       "0  13054500  52.081998  \n",
       "1  14801500  51.859999  \n",
       "2   9538000  52.650002  \n",
       "3  10108000  52.957000  \n",
       "4   8080000  53.036000  "
      ]
     },
     "execution_count": 21,
     "metadata": {},
     "output_type": "execute_result"
    }
   ],
   "source": [
    "df[\"average\"] = (df[\"High\"] + df[\"Low\"])/2\n",
    "df.head()"
   ]
  },
  {
   "cell_type": "markdown",
   "metadata": {
    "id": "k6A0vFHQUClo"
   },
   "source": [
    "**Prepare the training data**"
   ]
  },
  {
   "cell_type": "code",
   "execution_count": 22,
   "metadata": {
    "colab": {
     "base_uri": "https://localhost:8080/"
    },
    "id": "n1VMht0MV9af",
    "outputId": "f71e4bf4-ace4-447d-b5d8-f00e3d2aaa85"
   },
   "outputs": [
    {
     "data": {
      "text/plain": [
       "array([[1.30545000e+07, 5.20819985e+01],\n",
       "       [1.48015000e+07, 5.18599985e+01],\n",
       "       [9.53800000e+06, 5.26500015e+01],\n",
       "       [1.01080000e+07, 5.29570005e+01],\n",
       "       [8.08000000e+06, 5.30359995e+01]])"
      ]
     },
     "execution_count": 22,
     "metadata": {},
     "output_type": "execute_result"
    }
   ],
   "source": [
    "input_features =  df.iloc[:800,[6,7]].values\n",
    "input_features[:5]\n"
   ]
  },
  {
   "cell_type": "code",
   "execution_count": 23,
   "metadata": {
    "colab": {
     "base_uri": "https://localhost:8080/"
    },
    "id": "-0S53hRLWwfx",
    "outputId": "613fb33e-e92a-486e-b9e3-1f48b627c3ed"
   },
   "outputs": [
    {
     "name": "stdout",
     "output_type": "stream",
     "text": [
      "[52.0819985 51.8599985 52.6500015 52.9570005 53.0359995]\n"
     ]
    }
   ],
   "source": [
    "print(input_features[:5,1])"
   ]
  },
  {
   "cell_type": "code",
   "execution_count": 24,
   "metadata": {
    "colab": {
     "base_uri": "https://localhost:8080/",
     "height": 295
    },
    "id": "U18NlELFWo4r",
    "outputId": "713965cd-f1b9-4cbb-a3d6-c59051074e08"
   },
   "outputs": [
    {
     "data": {
      "image/png": "[encoded data removed]",
      "text/plain": [
       "<Figure size 432x288 with 1 Axes>"
      ]
     },
     "metadata": {
      "needs_background": "light"
     },
     "output_type": "display_data"
    }
   ],
   "source": [
    "plt.plot(input_features[:,1], color='blue')\n",
    "plt.title(\"Google Stock Prices\")\n",
    "plt.xlabel(\"Time \")\n",
    "plt.ylabel(\"Average Price of Stocks\")\n",
    "plt.show()"
   ]
  },
  {
   "cell_type": "markdown",
   "metadata": {
    "id": "k4Xu1y1uUHBO"
   },
   "source": [
    "**Normalize**"
   ]
  },
  {
   "cell_type": "code",
   "execution_count": 25,
   "metadata": {
    "colab": {
     "base_uri": "https://localhost:8080/"
    },
    "id": "fNhbcoP8XJjV",
    "outputId": "70c6c75b-2075-4276-e9bc-30dfa5e4c901"
   },
   "outputs": [
    {
     "name": "stdout",
     "output_type": "stream",
     "text": [
      "[0.47624206 0.47152448 0.48831233 0.49483618 0.49651493]\n"
     ]
    },
    {
     "data": {
      "text/plain": [
       "array([[0.06307719, 0.47624206],\n",
       "       [0.07465907, 0.47152448],\n",
       "       [0.03976425, 0.48831233],\n",
       "       [0.04354312, 0.49483618],\n",
       "       [0.03009832, 0.49651493],\n",
       "       [0.1424068 , 0.52505424],\n",
       "       [0.14155822, 0.55777978]])"
      ]
     },
     "execution_count": 25,
     "metadata": {},
     "output_type": "execute_result"
    }
   ],
   "source": [
    "from sklearn.preprocessing import MinMaxScaler\n",
    "sc= MinMaxScaler(feature_range=(0,1))\n",
    "input_features_scaled = sc.fit_transform(input_features)\n",
    "\n",
    "print(input_features_scaled[:5,1])\n",
    "input_features_scaled[:7]"
   ]
  },
  {
   "cell_type": "markdown",
   "metadata": {
    "id": "Z4XzX0izUKCl"
   },
   "source": [
    "**Split data in sequences**"
   ]
  },
  {
   "cell_type": "code",
   "execution_count": 26,
   "metadata": {
    "id": "zHInkWZgYJ5n"
   },
   "outputs": [],
   "source": [
    "# split a multivariate sequence into samples\n",
    "def split_sequences(sequences, n_steps):\n",
    "\tX, y = list(), list()\n",
    "\tfor i in range(len(sequences)- n_steps -1):\n",
    "\t\t# find the end of this pattern\n",
    "\t\tend_ix = i + n_steps\n",
    "\t\t# check if we are beyond the dataset\n",
    "\t\tif end_ix > len(sequences):\n",
    "\t\t\tbreak\n",
    "\t\t# gather input and output parts of the pattern\n",
    "\t\tseq_x, seq_y = sequences[i:end_ix, :], sequences[end_ix, -1]\n",
    "\t\tX.append(seq_x)\n",
    "\t\ty.append(seq_y)\n",
    "\treturn np.array(X), np.array(y) \n",
    " \n",
    "X, y = split_sequences(input_features_scaled,3)"
   ]
  },
  {
   "cell_type": "code",
   "execution_count": 27,
   "metadata": {
    "colab": {
     "base_uri": "https://localhost:8080/"
    },
    "id": "czBztgWcYkUR",
    "outputId": "fa65322d-b197-4e3c-d7ba-26b9a411e13b"
   },
   "outputs": [
    {
     "name": "stdout",
     "output_type": "stream",
     "text": [
      "[[0.06307719 0.47624206]\n",
      " [0.07465907 0.47152448]\n",
      " [0.03976425 0.48831233]] 0.49483617562543913\n"
     ]
    }
   ],
   "source": [
    "print(X[0], y[0])"
   ]
  },
  {
   "cell_type": "code",
   "execution_count": 28,
   "metadata": {
    "colab": {
     "base_uri": "https://localhost:8080/"
    },
    "id": "0KVxWzfDfYem",
    "outputId": "8d3a544e-ee28-4a5d-b587-1ef6f789f151"
   },
   "outputs": [
    {
     "name": "stdout",
     "output_type": "stream",
     "text": [
      "[[0.07465907 0.47152448]\n",
      " [0.03976425 0.48831233]\n",
      " [0.04354312 0.49483618]] 0.4965149337358694\n"
     ]
    }
   ],
   "source": [
    "print(X[1], y[1])"
   ]
  },
  {
   "cell_type": "code",
   "execution_count": 29,
   "metadata": {
    "colab": {
     "base_uri": "https://localhost:8080/"
    },
    "id": "UtyQikzhfyxH",
    "outputId": "ed661a53-231e-4e0c-ec1a-8c549968d462"
   },
   "outputs": [
    {
     "name": "stdout",
     "output_type": "stream",
     "text": [
      "[[0.03976425 0.48831233]\n",
      " [0.04354312 0.49483618]\n",
      " [0.03009832 0.49651493]] 0.5250542359954287\n"
     ]
    }
   ],
   "source": [
    "print(X[2], y[2])"
   ]
  },
  {
   "cell_type": "markdown",
   "metadata": {
    "id": "zyeDzwr7UYr8"
   },
   "source": [
    "**Split and Reshape**"
   ]
  },
  {
   "cell_type": "code",
   "execution_count": 30,
   "metadata": {
    "id": "hcchSjg7gYzE"
   },
   "outputs": [
    {
     "name": "stdout",
     "output_type": "stream",
     "text": [
      "(739, 60, 2) (739,)\n"
     ]
    }
   ],
   "source": [
    "X, y = split_sequences(input_features_scaled,60)\n",
    "X, y= np.array(X), np.array(y)\n",
    "\n",
    "print(X.shape, y.shape)\n"
   ]
  },
  {
   "cell_type": "markdown",
   "metadata": {
    "id": "3W8SrY3-Udbo"
   },
   "source": [
    "**Build LSTM for multivariate case**"
   ]
  },
  {
   "cell_type": "code",
   "execution_count": 31,
   "metadata": {
    "id": "G7VL-qeYhlcC",
    "scrolled": true,
    "tags": []
   },
   "outputs": [
    {
     "name": "stdout",
     "output_type": "stream",
     "text": [
      "Model: \"sequential_3\"\n",
      "_________________________________________________________________\n",
      "Layer (type)                 Output Shape              Param #   \n",
      "=================================================================\n",
      "lstm_8 (LSTM)                (None, 60, 30)            3960      \n",
      "_________________________________________________________________\n",
      "lstm_9 (LSTM)                (None, 60, 30)            7320      \n",
      "_________________________________________________________________\n",
      "lstm_10 (LSTM)               (None, 30)                7320      \n",
      "_________________________________________________________________\n",
      "dense_8 (Dense)              (None, 1)                 31        \n",
      "=================================================================\n",
      "Total params: 18,631\n",
      "Trainable params: 18,631\n",
      "Non-trainable params: 0\n",
      "_________________________________________________________________\n",
      "Epoch 1/20\n",
      "24/24 [==============================] - 2s 27ms/step - loss: 0.0557\n",
      "Epoch 2/20\n",
      "24/24 [==============================] - 1s 25ms/step - loss: 0.0101\n",
      "Epoch 3/20\n",
      "24/24 [==============================] - 1s 26ms/step - loss: 0.0095\n",
      "Epoch 4/20\n",
      "24/24 [==============================] - 1s 28ms/step - loss: 0.0089\n",
      "Epoch 5/20\n",
      "24/24 [==============================] - 1s 21ms/step - loss: 0.0082\n",
      "Epoch 6/20\n",
      "24/24 [==============================] - 1s 22ms/step - loss: 0.0073\n",
      "Epoch 7/20\n",
      "24/24 [==============================] - 1s 22ms/step - loss: 0.0076\n",
      "Epoch 8/20\n",
      "24/24 [==============================] - 1s 25ms/step - loss: 0.0066\n",
      "Epoch 9/20\n",
      "24/24 [==============================] - 1s 25ms/step - loss: 0.0068\n",
      "Epoch 10/20\n",
      "24/24 [==============================] - 1s 23ms/step - loss: 0.0064\n",
      "Epoch 11/20\n",
      "24/24 [==============================] - 1s 23ms/step - loss: 0.0061\n",
      "Epoch 12/20\n",
      "24/24 [==============================] - 1s 23ms/step - loss: 0.0056\n",
      "Epoch 13/20\n",
      "24/24 [==============================] - 1s 26ms/step - loss: 0.0053\n",
      "Epoch 14/20\n",
      "24/24 [==============================] - 1s 25ms/step - loss: 0.0048\n",
      "Epoch 15/20\n",
      "24/24 [==============================] - 1s 22ms/step - loss: 0.0044\n",
      "Epoch 16/20\n",
      "24/24 [==============================] - 1s 23ms/step - loss: 0.0040\n",
      "Epoch 17/20\n",
      "24/24 [==============================] - 1s 25ms/step - loss: 0.0040\n",
      "Epoch 18/20\n",
      "24/24 [==============================] - 1s 26ms/step - loss: 0.0042\n",
      "Epoch 19/20\n",
      "24/24 [==============================] - 1s 26ms/step - loss: 0.0036\n",
      "Epoch 20/20\n",
      "24/24 [==============================] - 1s 24ms/step - loss: 0.0033\n"
     ]
    },
    {
     "data": {
      "text/plain": [
       "<keras.callbacks.History at 0x7f15ec4e0b80>"
      ]
     },
     "execution_count": 31,
     "metadata": {},
     "output_type": "execute_result"
    }
   ],
   "source": [
    "model = keras.Sequential()\n",
    "model.add(keras.layers.LSTM(units=30, return_sequences= True, input_shape=(X.shape[1], X.shape[2])))\n",
    "model.add(keras.layers.LSTM(units=30, return_sequences= True))\n",
    "model.add(keras.layers.LSTM(units=30))\n",
    "model.add(keras.layers.Dense(1))\n",
    "\n",
    "model.compile(optimizer='adam', loss='mean_squared_error')\n",
    "model.summary()\n",
    "model.fit(X, y, epochs=20, batch_size=32)"
   ]
  },
  {
   "cell_type": "markdown",
   "metadata": {
    "id": "1y0GT4VhUsIi"
   },
   "source": [
    "**Prepare testing set**"
   ]
  },
  {
   "cell_type": "code",
   "execution_count": 32,
   "metadata": {
    "colab": {
     "base_uri": "https://localhost:8080/"
    },
    "id": "ovf-M6Syh9XK",
    "outputId": "9a462d39-f592-4bfe-fecb-8a0abb7f30fa"
   },
   "outputs": [
    {
     "name": "stdout",
     "output_type": "stream",
     "text": [
      "[0.08635861 0.09011713 0.09164468 0.09378824 0.08926802]\n",
      "(398, 60, 2) (398,)\n"
     ]
    }
   ],
   "source": [
    "input_features_test =  df.iloc[800:,[6,7]].values\n",
    "input_features_test[:5]\n",
    "#normalization\n",
    "from sklearn.preprocessing import MinMaxScaler\n",
    "sc= MinMaxScaler(feature_range=(0,1))\n",
    "input_features_test_scaled = sc.fit_transform(input_features_test)\n",
    "\n",
    "print(input_features_test_scaled[:5,1])\n",
    "input_features_test_scaled[:7]\n",
    "#TO DO\n",
    "X_test, y_test = split_sequences(input_features_test_scaled,60)\n",
    "print(X_test.shape, y_test.shape)\n",
    "\n",
    "predicted_value= model.predict(X_test)"
   ]
  },
  {
   "cell_type": "markdown",
   "metadata": {
    "id": "KbKhT8DSVB_C"
   },
   "source": [
    "**Visualize**"
   ]
  },
  {
   "cell_type": "code",
   "execution_count": 33,
   "metadata": {
    "colab": {
     "base_uri": "https://localhost:8080/",
     "height": 295
    },
    "id": "-wzOWNj1iff8",
    "outputId": "efef9fab-5601-47c6-a136-ca1e39b1a687"
   },
   "outputs": [
    {
     "data": {
      "image/png": "[encoded data removed]",
      "text/plain": [
       "<Figure size 432x288 with 1 Axes>"
      ]
     },
     "metadata": {
      "needs_background": "light"
     },
     "output_type": "display_data"
    }
   ],
   "source": [
    "plt.plot(predicted_value, color= 'red')\n",
    "plt.plot(y_test, color='green')\n",
    "plt.title(\" price of stocks sold\")\n",
    "plt.xlabel(\"Time \")\n",
    "plt.ylabel(\"Stock  Price\")\n",
    "plt.show()"
   ]
  },
  {
   "cell_type": "markdown",
   "metadata": {
    "id": "_w5cYlmdVKNg"
   },
   "source": [
    "**Multivariate multistep: to do as homework**"
   ]
  }
 ],
 "metadata": {
  "colab": {
   "collapsed_sections": [],
   "name": "LSTM_Tesla_Stock_prediction_ML_lezione_19_05_2022_TODO.ipynb",
   "provenance": []
  },
  "kernelspec": {
   "display_name": "Python 3 (ipykernel)",
   "language": "python",
   "name": "python3"
  },
  "language_info": {
   "codemirror_mode": {
    "name": "ipython",
    "version": 3
   },
   "file_extension": ".py",
   "mimetype": "text/x-python",
   "name": "python",
   "nbconvert_exporter": "python",
   "pygments_lexer": "ipython3",
   "version": "3.9.10"
  }
 },
 "nbformat": 4,
 "nbformat_minor": 4
}
