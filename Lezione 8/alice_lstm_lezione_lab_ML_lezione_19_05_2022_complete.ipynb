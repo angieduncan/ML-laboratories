{
 "cells": [
  {
   "cell_type": "markdown",
   "metadata": {
    "id": "FweUdCVwQh3S"
   },
   "source": [
    "# Problem\n",
    "Recurrent neural networks can also be used as **generative models**.\n",
    "\n",
    "This means that in addition to being used for predictive models (making predictions) \n",
    "they can learn the sequences of a problem and \n",
    "then generate entirely new plausible sequences for the problem domain.\n",
    "\n",
    "In this lesson we are going to use the dataset: ``Alice’s Adventures in Wonderland``.\n",
    "\n",
    "We are going to learn the dependencies between characters and \n",
    "the conditional probabilities of characters in sequences \n",
    "so that we can in turn generate wholly new and original sequences of characters."
   ]
  },
  {
   "cell_type": "code",
   "execution_count": null,
   "metadata": {
    "id": "bAyysZ74Qh3V"
   },
   "outputs": [],
   "source": [
    "import numpy as np\n",
    "from keras.models import Sequential\n",
    "from keras.layers import Dense\n",
    "from keras.layers import Dropout\n",
    "from keras.layers import LSTM\n",
    "from keras.callbacks import ModelCheckpoint\n",
    "from keras.utils import np_utils\n",
    "import tensorflow as tf\n",
    "import sys\n",
    "import os"
   ]
  },
  {
   "cell_type": "markdown",
   "metadata": {
    "id": "uKEbdmsEQh3h"
   },
   "source": [
    "### First step: Loading and marshalling of dataset"
   ]
  },
  {
   "cell_type": "code",
   "execution_count": null,
   "metadata": {
    "id": "TjoyvCSCQh3l"
   },
   "outputs": [],
   "source": [
    "### First step: Loading of dataset and marshaling of they# load ascii text and covert to lowercase\n",
    "### we need to load the ASCII text for the book into memory and convert all of the characters to \n",
    "### lowercase to reduce the vocabulary that the network must learn.\n",
    "filename = \"wonderland.txt\"\n",
    "raw_text = open(filename).read()\n",
    "raw_text = raw_text.lower()\n",
    "\n",
    "### We cannot model the characters directly, instead we must convert the characters to integers\n",
    "# create mapping of unique chars to integers\n",
    "chars = sorted(list(set(raw_text)))\n",
    "char_to_int = dict((c, i) for i, c in enumerate(chars))\n",
    "int_to_char = dict((i, c) for i, c in enumerate(chars))\n",
    "\n",
    "\n",
    "# summarize the loaded data\n",
    "n_chars = len(raw_text)\n",
    "n_vocab = len(chars)\n",
    "print(\"Total Characters: \", n_chars)\n",
    "print(\"Total Vocab: \", n_vocab)\n",
    "\n",
    "\n",
    "# prepare the dataset of input to output pairs encoded as integers\n",
    "seq_length = 100\n",
    "dataX = []\n",
    "dataY = []\n",
    "for i in range(0, n_chars - seq_length, 1):\n",
    "    seq_in = raw_text[i:i + seq_length]    \n",
    "    seq_out = raw_text[i + seq_length]\n",
    "  \n",
    "    dataX.append([char_to_int[char] for char in seq_in])\n",
    "    dataY.append(char_to_int[seq_out])\n",
    "n_patterns = len(dataX)\n",
    "print(dataX[0])\n",
    "print(dataY[0])\n",
    "print(\"Total Patterns: \", n_patterns)\n",
    "\n",
    "\n",
    "# reshape X to be [samples, time steps, features]\n",
    "X = np.reshape(dataX, (n_patterns, seq_length, 1))\n",
    "print(X.shape)\n",
    "# normalize\n",
    "X = X / float(n_vocab)\n",
    "\n",
    "# one hot encode the output variable\n",
    "y = np_utils.to_categorical(dataY)\n",
    "print(y.shape)\n",
    "print(y[0])"
   ]
  },
  {
   "cell_type": "code",
   "execution_count": null,
   "metadata": {
    "id": "LYRBqX9dSsO4"
   },
   "outputs": [],
   "source": [
    "for idx,lista in enumerate(dataX):\n",
    "    if len(lista) !=100:\n",
    "        print(\"lists with diff lenght \",idx, len(lista))\n"
   ]
  },
  {
   "cell_type": "markdown",
   "metadata": {
    "id": "rkoH-HziQh3w"
   },
   "source": [
    "### Second step: Create the model "
   ]
  },
  {
   "cell_type": "code",
   "execution_count": null,
   "metadata": {
    "id": "jd9P1exFQh3z"
   },
   "outputs": [],
   "source": [
    "model = tf.keras.Sequential()\n",
    "model.add(tf.keras.layers.LSTM(256, input_shape=(X.shape[1], X.shape[2]), return_sequences=True))\n",
    "model.add(tf.keras.layers.Dropout(0.2))\n",
    "model.add(tf.keras.layers.LSTM(256))\n",
    "model.add(tf.keras.layers.Dropout(0.2))\n",
    "model.add(tf.keras.layers.Dense(y.shape[1], activation='softmax'))\n",
    "#filename = \"Alice_in_Wonderland_models/weights-improvement-05-1.9609-bigger.hdf5\"\n",
    "#model.load_weights(filename)  # note to self: it is also possible to save the model (save_model/load_model), \n",
    "                               # and then there is no need to defined the model before calling the load_weights()\n",
    "model.compile(loss='categorical_crossentropy', optimizer='adam')"
   ]
  },
  {
   "cell_type": "markdown",
   "metadata": {
    "id": "4KMxw8ctQh36"
   },
   "source": [
    "### Third step: define a callback which will save the intermedie weights of model"
   ]
  },
  {
   "cell_type": "code",
   "execution_count": null,
   "metadata": {
    "id": "kCYKlFxAQh38"
   },
   "outputs": [],
   "source": [
    "# dirName = \"round_one\"\n",
    "# if not os.path.exists(dirName):\n",
    "#     os.mkdir(dirName)\n",
    "#     print(\"Directory \" , dirName ,  \" Created \")\n",
    "# else:    \n",
    "#     print(\"Directory \" , dirName ,  \" already exists\")\n",
    "filepath=\"round_one/weights-improvement-{epoch:02d}-{loss:.4f}-bigger2.hdf5\"\n",
    "checkpoint = tf.keras.callbacks.ModelCheckpoint(filepath, monitor='loss', verbose=1, save_best_only=True, mode='min')\n",
    "callbacks_list = [checkpoint]"
   ]
  },
  {
   "cell_type": "markdown",
   "metadata": {
    "id": "1hwI8RF3Qh4E"
   },
   "source": [
    "### Fourth step: Training of model"
   ]
  },
  {
   "cell_type": "code",
   "execution_count": null,
   "metadata": {
    "id": "iQDFwXJZQh4M"
   },
   "outputs": [],
   "source": [
    "# fit the model\n",
    "model.fit(X, y, epochs=2, batch_size=64, callbacks=callbacks_list)"
   ]
  },
  {
   "cell_type": "code",
   "execution_count": null,
   "metadata": {
    "id": "8N-VEek1R6ST"
   },
   "outputs": [],
   "source": [
    "# pick a random seed\n",
    "start = np.random.randint(0, len(dataX)-1)\n",
    "print(\"start: \", start)\n",
    "pattern = dataX[start]\n",
    "print(\"pattern:\", pattern)\n",
    "print(\"Seed:\")\n",
    "print(\"\\\"\", ''.join([int_to_char[value] for value in pattern]), \"\\\"\")"
   ]
  },
  {
   "cell_type": "code",
   "execution_count": null,
   "metadata": {
    "id": "aR3eMDbeR8gs"
   },
   "outputs": [],
   "source": [
    "# generate characters\n",
    "for i in range(100):\n",
    "    x = np.reshape(pattern, (1, len(pattern), 1))\n",
    "    x = x / float(n_vocab)\n",
    "    prediction = model.predict(x, verbose=0)\n",
    "    #print(prediction)\n",
    "    index = np.argmax(prediction)\n",
    "    #print(index)\n",
    "    result = int_to_char[index]\n",
    "    seq_in = [int_to_char[value] for value in pattern]\n",
    "    sys.stdout.write(result)\n",
    "    pattern.append(index)\n",
    "    pattern = pattern[1:len(pattern)]\n",
    "print(\"\\nDone.\")"
   ]
  },
  {
   "cell_type": "code",
   "execution_count": null,
   "metadata": {
    "id": "NaRbWQCtcGJL"
   },
   "outputs": [],
   "source": [
    "filepath=\"round_two/weights-improvement-{epoch:02d}-{loss:.4f}-bigger2.hdf5\"\n",
    "checkpoint = tf.keras.callbacks.ModelCheckpoint(filepath, monitor='loss', verbose=1, save_best_only=True, mode='min')\n",
    "callbacks_list = [checkpoint]"
   ]
  },
  {
   "cell_type": "code",
   "execution_count": null,
   "metadata": {
    "id": "ChEE6DRscI4I"
   },
   "outputs": [],
   "source": [
    "# fit the model\n",
    "model.fit(X, y, epochs=100, batch_size=64, callbacks=callbacks_list)"
   ]
  },
  {
   "cell_type": "code",
   "execution_count": null,
   "metadata": {
    "id": "VgyTNtv3WKnu"
   },
   "outputs": [],
   "source": [
    "from keras.models import load_model\n",
    "model = load_model(\"/content/round_one/weights-improvement-60-1.1718-bigger2.hdf5\")"
   ]
  },
  {
   "cell_type": "code",
   "execution_count": null,
   "metadata": {
    "id": "ivReen_UcOWW"
   },
   "outputs": [],
   "source": [
    "# pick a random seed\n",
    "start = np.random.randint(0, len(dataX)-1)\n",
    "print(\"start: \", start)\n",
    "pattern = dataX[start]\n",
    "print(\"pattern:\", len(pattern))\n",
    "print(\"Seed:\")\n",
    "print(\"\\\"\", ''.join([int_to_char[value] for value in pattern]), \"\\\"\")"
   ]
  },
  {
   "cell_type": "code",
   "execution_count": null,
   "metadata": {
    "id": "0Z3cB3A2cPzz"
   },
   "outputs": [],
   "source": [
    "# generate characters\n",
    "for i in range(100):\n",
    "    x = np.reshape(pattern, (1, len(pattern), 1))\n",
    "    #print(\"x shape: \",x.shape)\n",
    "    x = x / float(n_vocab)\n",
    "    prediction = model.predict(x, verbose=0)\n",
    "    index = np.argmax(prediction)\n",
    "    result = int_to_char[index]\n",
    "    seq_in = [int_to_char[value] for value in pattern]\n",
    "    sys.stdout.write(result)\n",
    "    pattern.append(index)\n",
    "    pattern = pattern[1:len(pattern)]\n",
    "print(\"\\nDone.\")"
   ]
  },
  {
   "cell_type": "code",
   "execution_count": null,
   "metadata": {
    "id": "RuqLBru7-999"
   },
   "outputs": [],
   "source": [
    "X_train_nn = np.array(dataX)\n",
    "X_train_nn = X_train_nn/ float(n_vocab)\n",
    "print(X_train_nn.shape)"
   ]
  },
  {
   "cell_type": "code",
   "execution_count": null,
   "metadata": {
    "id": "6EpP1Q7H_FyQ"
   },
   "outputs": [],
   "source": [
    "model = tf.keras.Sequential()\n",
    "model.add(tf.keras.layers.Dense(256, input_shape=(100,), activation=\"relu\"))\n",
    "model.add(tf.keras.layers.Dropout(0.2))\n",
    "model.add(tf.keras.layers.Dense(256, activation= \"relu\"))\n",
    "model.add(tf.keras.layers.Dropout(0.2))\n",
    "model.add(tf.keras.layers.Dense(y.shape[1], activation='softmax'))\n",
    "#filename = \"Alice_in_Wonderland_models/weights-improvement-05-1.9609-bigger.hdf5\"\n",
    "#model.load_weights(filename)  # note to self: it is also possible to save the model (save_model/load_model), \n",
    "                               # and then there is no need to defined the model before calling the load_weights()\n",
    "model.compile(loss='categorical_crossentropy', optimizer='adam')\n",
    "\n",
    "model.fit(X_train_nn, y, epochs=10, batch_size=64)"
   ]
  },
  {
   "cell_type": "code",
   "execution_count": null,
   "metadata": {
    "id": "PEm7OpAH_S1h"
   },
   "outputs": [],
   "source": [
    "# pick a random seed\n",
    "start = np.random.randint(0, len(dataX)-1)\n",
    "print(\"start: \", start)\n",
    "pattern = dataX[start]\n",
    "print(\"pattern:\", len(pattern))\n",
    "print(\"Seed:\")\n",
    "print(\"\\\"\", ''.join([int_to_char[value] for value in pattern]), \"\\\"\")"
   ]
  },
  {
   "cell_type": "code",
   "execution_count": null,
   "metadata": {
    "id": "SZnJjIVp_VdL"
   },
   "outputs": [],
   "source": [
    "# generate characters\n",
    "for i in range(100):\n",
    "    x = np.reshape(pattern, (1, len(pattern)))\n",
    "    #print(\"x shape: \",x.shape)\n",
    "    x = x / float(n_vocab)\n",
    "    prediction = model.predict(x, verbose=0)\n",
    "    index = np.argmax(prediction)\n",
    "    result = int_to_char[index]\n",
    "    seq_in = [int_to_char[value] for value in pattern]\n",
    "    sys.stdout.write(result)\n",
    "    pattern.append(index)\n",
    "    pattern = pattern[1:len(pattern)]\n",
    "print(\"\\nDone.\")"
   ]
  }
 ],
 "metadata": {
  "accelerator": "GPU",
  "colab": {
   "collapsed_sections": [],
   "name": "alice_lstm_lezione_lab_ML_lezione_19_05_2022_complete.ipynb",
   "provenance": []
  },
  "kernelspec": {
   "display_name": "Python 3 (ipykernel)",
   "language": "python",
   "name": "python3"
  },
  "language_info": {
   "codemirror_mode": {
    "name": "ipython",
    "version": 3
   },
   "file_extension": ".py",
   "mimetype": "text/x-python",
   "name": "python",
   "nbconvert_exporter": "python",
   "pygments_lexer": "ipython3",
   "version": "3.9.10"
  }
 },
 "nbformat": 4,
 "nbformat_minor": 4
}
